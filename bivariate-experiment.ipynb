{
 "cells": [
  {
   "cell_type": "markdown",
   "metadata": {},
   "source": [
    "# bivariate-experiment\n",
    "\n",
    "Use the \"Run\" button to execute the code."
   ]
  },
  {
   "cell_type": "code",
   "execution_count": 34,
   "metadata": {},
   "outputs": [
    {
     "name": "stdout",
     "output_type": "stream",
     "text": [
      "Requirement already up-to-date: jovian in /opt/conda/lib/python3.8/site-packages (0.2.38)\n",
      "Requirement already satisfied, skipping upgrade: requests in /opt/conda/lib/python3.8/site-packages (from jovian) (2.24.0)\n",
      "Requirement already satisfied, skipping upgrade: click in /opt/conda/lib/python3.8/site-packages (from jovian) (7.1.2)\n",
      "Requirement already satisfied, skipping upgrade: uuid in /opt/conda/lib/python3.8/site-packages (from jovian) (1.30)\n",
      "Requirement already satisfied, skipping upgrade: pyyaml in /opt/conda/lib/python3.8/site-packages (from jovian) (5.3.1)\n",
      "Requirement already satisfied, skipping upgrade: certifi>=2017.4.17 in /opt/conda/lib/python3.8/site-packages (from requests->jovian) (2020.6.20)\n",
      "Requirement already satisfied, skipping upgrade: chardet<4,>=3.0.2 in /opt/conda/lib/python3.8/site-packages (from requests->jovian) (3.0.4)\n",
      "Requirement already satisfied, skipping upgrade: urllib3!=1.25.0,!=1.25.1,<1.26,>=1.21.1 in /opt/conda/lib/python3.8/site-packages (from requests->jovian) (1.25.11)\n",
      "Requirement already satisfied, skipping upgrade: idna<3,>=2.5 in /opt/conda/lib/python3.8/site-packages (from requests->jovian) (2.10)\n"
     ]
    }
   ],
   "source": [
    "!pip install jovian --upgrade"
   ]
  },
  {
   "cell_type": "code",
   "execution_count": 35,
   "metadata": {},
   "outputs": [],
   "source": [
    "import jovian"
   ]
  },
  {
   "cell_type": "code",
   "execution_count": 100,
   "metadata": {},
   "outputs": [
    {
     "data": {
      "application/javascript": [
       "window.require && require([\"base/js/namespace\"],function(Jupyter){Jupyter.notebook.save_checkpoint()})"
      ],
      "text/plain": [
       "<IPython.core.display.Javascript object>"
      ]
     },
     "metadata": {},
     "output_type": "display_data"
    },
    {
     "name": "stdout",
     "output_type": "stream",
     "text": [
      "[jovian] Attempting to save notebook..\u001b[0m\n",
      "[jovian] Updating notebook \"worldpower890/bivariate-experiment\" on https://jovian.ai\u001b[0m\n",
      "[jovian] Uploading notebook..\u001b[0m\n",
      "[jovian] Committed successfully! https://jovian.ai/worldpower890/bivariate-experiment\u001b[0m\n"
     ]
    },
    {
     "data": {
      "text/plain": [
       "'https://jovian.ai/worldpower890/bivariate-experiment'"
      ]
     },
     "execution_count": 100,
     "metadata": {},
     "output_type": "execute_result"
    }
   ],
   "source": [
    "# Execute this to save new versions of the notebook\n",
    "jovian.commit(project=\"bivariate-experiment\")"
   ]
  },
  {
   "cell_type": "code",
   "execution_count": 2,
   "metadata": {},
   "outputs": [
    {
     "name": "stdout",
     "output_type": "stream",
     "text": [
      "bivariate-experiment.ipynb  wine.data.txt  wine.names.txt  work\r\n"
     ]
    }
   ],
   "source": [
    "!ls"
   ]
  },
  {
   "cell_type": "code",
   "execution_count": 1,
   "metadata": {},
   "outputs": [],
   "source": [
    "import numpy as np\n",
    "import matplotlib.pyplot as plt\n",
    "from scipy.stats import multivariate_normal"
   ]
  },
  {
   "cell_type": "code",
   "execution_count": 48,
   "metadata": {},
   "outputs": [],
   "source": [
    "data = np.loadtxt('wine.data2.txt',delimiter=',')"
   ]
  },
  {
   "cell_type": "code",
   "execution_count": 49,
   "metadata": {},
   "outputs": [
    {
     "data": {
      "text/plain": [
       "(178, 14)"
      ]
     },
     "execution_count": 49,
     "metadata": {},
     "output_type": "execute_result"
    }
   ],
   "source": [
    "data.shape"
   ]
  },
  {
   "cell_type": "code",
   "execution_count": 50,
   "metadata": {},
   "outputs": [],
   "source": [
    "np.random.seed(0)\n",
    "perm = np.random.permutation(178)"
   ]
  },
  {
   "cell_type": "code",
   "execution_count": 51,
   "metadata": {},
   "outputs": [],
   "source": [
    "trainx = data[perm[0:130],1:14]\n",
    "trainy = data[perm[130:],0]\n",
    "testx = data[perm[0:130],1:14]\n",
    "testy = data[perm[130:],0]"
   ]
  },
  {
   "cell_type": "code",
   "execution_count": 52,
   "metadata": {},
   "outputs": [
    {
     "data": {
      "text/plain": [
       "((48,), (48,))"
      ]
     },
     "execution_count": 52,
     "metadata": {},
     "output_type": "execute_result"
    }
   ],
   "source": [
    "trainx.shape\n",
    "testx.shape\n",
    "trainy.shape,testy.shape"
   ]
  },
  {
   "cell_type": "code",
   "execution_count": 124,
   "metadata": {},
   "outputs": [
    {
     "data": {
      "text/plain": [
       "(array([2.33761538, 2.32461538]),\n",
       " array([[0.07439816, 0.02790947],\n",
       "        [0.02790947, 0.40755716]]))"
      ]
     },
     "execution_count": 124,
     "metadata": {},
     "output_type": "execute_result"
    }
   ],
   "source": [
    "def generate_m_cov(f1,f2):\n",
    "    m,cov = np.mean(trainx[:,(f1,f2)],axis=0),np.cov(trainx[:,(f1,f2)],rowvar=0,bias=1)\n",
    "    return m,cov\n",
    "\n",
    "generate_m_cov(2,5)"
   ]
  },
  {
   "cell_type": "code",
   "execution_count": 141,
   "metadata": {},
   "outputs": [
    {
     "data": {
      "image/png": "[encoded data removed]",
      "text/plain": [
       "<Figure size 432x288 with 1 Axes>"
      ]
     },
     "metadata": {
      "needs_background": "light"
     },
     "output_type": "display_data"
    }
   ],
   "source": [
    "def bivariate_model(f1,f2):\n",
    "    m,cov = generate_m_cov(f1,f2)\n",
    "    #print(cov)\n",
    "    val = []\n",
    "    lower_val1 = np.min(trainx[:,f1])\n",
    "    lower_val2 = np.min(trainx[:,f2])\n",
    "    high_val1 = np.max(trainx[:,f1])\n",
    "    high_val2 = np.max(trainx[:,f2])\n",
    "   \n",
    "    for i in range(len(trainx)):\n",
    "        #print(i)\n",
    "        val.append(multivariate_normal.pdf(trainx[:i,(f1,f2)],m,cov))\n",
    "    #plt.xlim(lower_val1,high_val1)\n",
    "    #plt.ylim(lower_val2,high_val2)\n",
    "    plt.scatter(trainx[:,(2)],trainx[:,5])\n",
    "    plt.title('Scatter plot between feature 2 and 5')\n",
    "    plt.xlabel('feture2')\n",
    "    plt.ylabel('feature 5')\n",
    "    \n",
    "     #----contours values -----\n",
    "    \n",
    "    x1g = np.linspace(lower_val1,high_val1,200)\n",
    "    y1g = np.linspace(lower_val2,high_val2,200)\n",
    "    z = [x1g,y1g]\n",
    "    sign,det = np.linalg.slogdet(cov)\n",
    "    for i in range(3):\n",
    "        plt.contour(z,levels=2,colors='r')\n",
    "    #print(z)\n",
    "    \n",
    "    #-------------------------\n",
    "    return \n",
    "\n",
    "bivariate_model(2,5)"
   ]
  },
  {
   "cell_type": "code",
   "execution_count": 144,
   "metadata": {},
   "outputs": [
    {
     "ename": "IndexError",
     "evalue": "boolean index did not match indexed array along dimension 0; dimension is 130 but corresponding boolean dimension is 48",
     "output_type": "error",
     "traceback": [
      "\u001b[0;31m---------------------------------------------------------------------------\u001b[0m",
      "\u001b[0;31mIndexError\u001b[0m                                Traceback (most recent call last)",
      "\u001b[0;32m<ipython-input-144-4d9ecb8bc7ca>\u001b[0m in \u001b[0;36m<module>\u001b[0;34m\u001b[0m\n\u001b[0;32m----> 1\u001b[0;31m \u001b[0mtrainx\u001b[0m\u001b[0;34m[\u001b[0m\u001b[0mtrainy\u001b[0m \u001b[0;34m==\u001b[0m \u001b[0;36m1\u001b[0m\u001b[0;34m]\u001b[0m\u001b[0;34m\u001b[0m\u001b[0;34m\u001b[0m\u001b[0m\n\u001b[0m",
      "\u001b[0;31mIndexError\u001b[0m: boolean index did not match indexed array along dimension 0; dimension is 130 but corresponding boolean dimension is 48"
     ]
    }
   ],
   "source": [
    "trainx[trainy == 1]"
   ]
  },
  {
   "cell_type": "code",
   "execution_count": null,
   "metadata": {},
   "outputs": [],
   "source": []
  }
 ],
 "metadata": {
  "kernelspec": {
   "display_name": "Python 3",
   "language": "python",
   "name": "python3"
  },
  "language_info": {
   "codemirror_mode": {
    "name": "ipython",
    "version": 3
   },
   "file_extension": ".py",
   "mimetype": "text/x-python",
   "name": "python",
   "nbconvert_exporter": "python",
   "pygments_lexer": "ipython3",
   "version": "3.8.6"
  }
 },
 "nbformat": 4,
 "nbformat_minor": 2
}
